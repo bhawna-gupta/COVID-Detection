{
 "cells": [
  {
   "cell_type": "code",
   "execution_count": 133,
   "metadata": {},
   "outputs": [],
   "source": [
    "import os\n",
    "import numpy as np\n",
    "import matplotlib.pyplot as plt\n",
    "import keras\n",
    "from keras.layers import *\n",
    "from keras.models import *\n",
    "from keras.preprocessing import image"
   ]
  },
  {
   "cell_type": "markdown",
   "metadata": {},
   "source": [
    "### Model deployment"
   ]
  },
  {
   "cell_type": "code",
   "execution_count": 138,
   "metadata": {},
   "outputs": [],
   "source": [
    "#Defining paths\n",
    "TRAIN_PATH=\"CovidDataset/Train\"\n",
    "VAL_PATH=\"CovidDataset/Test\""
   ]
  },
  {
   "cell_type": "code",
   "execution_count": 140,
   "metadata": {},
   "outputs": [],
   "source": [
    "#Training model\n",
    "model=Sequential()\n",
    "model.add(Conv2D(32,kernel_size=(3,3),activation='relu',input_shape=(224,224,3)))\n",
    "model.add(Conv2D(64,(3,3),activation='relu'))\n",
    "model.add(MaxPooling2D(pool_size=(2,2)))\n",
    "model.add(Dropout(0.25))\n",
    "\n",
    "model.add(Conv2D(64,(3,3),activation='relu'))\n",
    "model.add(MaxPooling2D(pool_size=(2,2)))       \n",
    "model.add(Dropout(0.25))\n",
    "\n",
    "model.add(Conv2D(128,(3,3),activation='relu'))\n",
    "model.add(MaxPooling2D(pool_size=(2,2)))    \n",
    "\n",
    "model.add(Flatten())\n",
    "model.add(Dense(64,activation='relu'))\n",
    "model.add(Dropout(0.5))\n",
    "model.add(Dense(1,activation='sigmoid'))\n",
    "\n",
    "model.compile(loss=keras.losses.binary_crossentropy,optimizer='adam',metrics=['accuracy'])"
   ]
  },
  {
   "cell_type": "code",
   "execution_count": 141,
   "metadata": {},
   "outputs": [
    {
     "name": "stdout",
     "output_type": "stream",
     "text": [
      "Model: \"sequential_11\"\n",
      "_________________________________________________________________\n",
      "Layer (type)                 Output Shape              Param #   \n",
      "=================================================================\n",
      "conv2d_37 (Conv2D)           (None, 222, 222, 32)      896       \n",
      "_________________________________________________________________\n",
      "conv2d_38 (Conv2D)           (None, 220, 220, 64)      18496     \n",
      "_________________________________________________________________\n",
      "max_pooling2d_28 (MaxPooling (None, 110, 110, 64)      0         \n",
      "_________________________________________________________________\n",
      "dropout_28 (Dropout)         (None, 110, 110, 64)      0         \n",
      "_________________________________________________________________\n",
      "conv2d_39 (Conv2D)           (None, 108, 108, 64)      36928     \n",
      "_________________________________________________________________\n",
      "max_pooling2d_29 (MaxPooling (None, 54, 54, 64)        0         \n",
      "_________________________________________________________________\n",
      "dropout_29 (Dropout)         (None, 54, 54, 64)        0         \n",
      "_________________________________________________________________\n",
      "conv2d_40 (Conv2D)           (None, 52, 52, 128)       73856     \n",
      "_________________________________________________________________\n",
      "max_pooling2d_30 (MaxPooling (None, 26, 26, 128)       0         \n",
      "_________________________________________________________________\n",
      "flatten_10 (Flatten)         (None, 86528)             0         \n",
      "_________________________________________________________________\n",
      "dense_18 (Dense)             (None, 64)                5537856   \n",
      "_________________________________________________________________\n",
      "dropout_30 (Dropout)         (None, 64)                0         \n",
      "_________________________________________________________________\n",
      "dense_19 (Dense)             (None, 1)                 65        \n",
      "=================================================================\n",
      "Total params: 5,668,097\n",
      "Trainable params: 5,668,097\n",
      "Non-trainable params: 0\n",
      "_________________________________________________________________\n"
     ]
    }
   ],
   "source": [
    "#Getting parameters\n",
    "model.summary()"
   ]
  },
  {
   "cell_type": "markdown",
   "metadata": {},
   "source": [
    "### Training data"
   ]
  },
  {
   "cell_type": "code",
   "execution_count": 142,
   "metadata": {},
   "outputs": [],
   "source": [
    "#Moulding train images\n",
    "train_datagen =image.ImageDataGenerator(\n",
    "    rescale=1./255,\n",
    "    shear_range=0.2,\n",
    "    zoom_range=0.5,\n",
    "    horizontal_flip=True\n",
    ")\n",
    "test_datagen=image.ImageDataGenerator(\n",
    "    rescale=1./255\n",
    ")"
   ]
  },
  {
   "cell_type": "code",
   "execution_count": 143,
   "metadata": {},
   "outputs": [
    {
     "name": "stdout",
     "output_type": "stream",
     "text": [
      "Found 224 images belonging to 2 classes.\n"
     ]
    }
   ],
   "source": [
    "train_generator=train_datagen.flow_from_directory(\n",
    "    'CovidDataset/Train',\n",
    "    target_size=(224,224),\n",
    "    batch_size=32,\n",
    "    class_mode='binary'\n",
    ")"
   ]
  },
  {
   "cell_type": "code",
   "execution_count": 145,
   "metadata": {},
   "outputs": [
    {
     "name": "stdout",
     "output_type": "stream",
     "text": [
      "Found 60 images belonging to 2 classes.\n"
     ]
    }
   ],
   "source": [
    "validation_generator=test_datagen.flow_from_directory(\n",
    "    'CovidDataset/Val',\n",
    "    target_size=(224,224),\n",
    "    batch_size=32,\n",
    "    class_mode='binary'\n",
    ")"
   ]
  },
  {
   "cell_type": "code",
   "execution_count": 148,
   "metadata": {},
   "outputs": [
    {
     "name": "stdout",
     "output_type": "stream",
     "text": [
      "Epoch 1/10\n",
      "8/8 [==============================] - 24s 3s/step - loss: 0.9700 - accuracy: 0.4961 - val_loss: 0.6923 - val_accuracy: 0.5833\n",
      "Epoch 2/10\n",
      "8/8 [==============================] - 24s 3s/step - loss: 0.6832 - accuracy: 0.5742 - val_loss: 0.6735 - val_accuracy: 0.5000\n",
      "Epoch 3/10\n",
      "8/8 [==============================] - 25s 3s/step - loss: 0.6360 - accuracy: 0.6641 - val_loss: 0.5701 - val_accuracy: 0.9333\n",
      "Epoch 4/10\n",
      "8/8 [==============================] - 25s 3s/step - loss: 0.5008 - accuracy: 0.7578 - val_loss: 0.4094 - val_accuracy: 0.9667\n",
      "Epoch 5/10\n",
      "8/8 [==============================] - 26s 3s/step - loss: 0.3881 - accuracy: 0.8359 - val_loss: 0.2868 - val_accuracy: 0.9667\n",
      "Epoch 6/10\n",
      "8/8 [==============================] - 26s 3s/step - loss: 0.2808 - accuracy: 0.8906 - val_loss: 0.0758 - val_accuracy: 0.9667\n",
      "Epoch 7/10\n",
      "8/8 [==============================] - 27s 3s/step - loss: 0.2464 - accuracy: 0.9219 - val_loss: 0.0551 - val_accuracy: 0.9833\n",
      "Epoch 8/10\n",
      "8/8 [==============================] - 28s 3s/step - loss: 0.2374 - accuracy: 0.9219 - val_loss: 0.1250 - val_accuracy: 0.9833\n",
      "Epoch 9/10\n",
      "8/8 [==============================] - 27s 3s/step - loss: 0.2447 - accuracy: 0.8906 - val_loss: 0.0429 - val_accuracy: 0.9833\n",
      "Epoch 10/10\n",
      "8/8 [==============================] - 27s 3s/step - loss: 0.1610 - accuracy: 0.9336 - val_loss: 0.0311 - val_accuracy: 1.0000\n"
     ]
    }
   ],
   "source": [
    "#Training the model\n",
    "hist=model.fit_generator(\n",
    "    train_generator,\n",
    "    steps_per_epoch=8,\n",
    "    epochs=10,\n",
    "    validation_data=validation_generator,\n",
    "    validation_steps=2\n",
    ")"
   ]
  },
  {
   "cell_type": "code",
   "execution_count": 150,
   "metadata": {},
   "outputs": [
    {
     "name": "stdout",
     "output_type": "stream",
     "text": [
      "{'val_loss': [0.6922608613967896, 0.6735194325447083, 0.570107102394104, 0.4093955159187317, 0.2868082821369171, 0.07578189671039581, 0.05509915575385094, 0.1249738484621048, 0.04292568191885948, 0.031080035492777824], 'val_accuracy': [0.5833333134651184, 0.5, 0.9333333373069763, 0.9666666388511658, 0.9666666388511658, 0.9666666388511658, 0.9833333492279053, 0.9833333492279053, 0.9833333492279053, 1.0], 'loss': [0.9700357019901276, 0.6832373663783073, 0.6360070928931236, 0.5007956512272358, 0.38811565190553665, 0.2807748606428504, 0.2464258410036564, 0.23735248483717442, 0.2447340004146099, 0.1610381407663226], 'accuracy': [0.49609375, 0.57421875, 0.6640625, 0.7578125, 0.8359375, 0.890625, 0.921875, 0.921875, 0.890625, 0.93359375]}\n"
     ]
    }
   ],
   "source": [
    "#Getting summary\n",
    "summary=hist.history\n",
    "print(summary)"
   ]
  },
  {
   "cell_type": "code",
   "execution_count": 151,
   "metadata": {},
   "outputs": [],
   "source": [
    "model.save(\"model_covid.h5\")"
   ]
  },
  {
   "cell_type": "code",
   "execution_count": 152,
   "metadata": {},
   "outputs": [
    {
     "data": {
      "text/plain": [
       "[0.14076071977615356, 0.9508928656578064]"
      ]
     },
     "execution_count": 152,
     "metadata": {},
     "output_type": "execute_result"
    }
   ],
   "source": [
    "model.evaluate_generator(train_generator)"
   ]
  },
  {
   "cell_type": "code",
   "execution_count": 153,
   "metadata": {},
   "outputs": [
    {
     "name": "stdout",
     "output_type": "stream",
     "text": [
      "[0.020135704427957535, 1.0]\n"
     ]
    }
   ],
   "source": [
    "print(model.evaluate_generator(validation_generator))"
   ]
  },
  {
   "cell_type": "markdown",
   "metadata": {},
   "source": [
    "### Confusion Matrix"
   ]
  },
  {
   "cell_type": "code",
   "execution_count": 183,
   "metadata": {},
   "outputs": [],
   "source": [
    "y_actual, y_test = [],[]"
   ]
  },
  {
   "cell_type": "code",
   "execution_count": 184,
   "metadata": {},
   "outputs": [],
   "source": [
    "for i in os.listdir(\"./CovidDataset/Val/Normal/\"):\n",
    "    img=image.load_img(\"./CovidDataset/Val/Normal/\"+i,target_size=(224,224))\n",
    "    img=image.img_to_array(img)\n",
    "    img=np.expand_dims(img,axis=0)#Along row expansion\n",
    "    pred=model.predict_classes(img)\n",
    "    y_test.append(pred[0,0])\n",
    "    y_actual.append(1)"
   ]
  },
  {
   "cell_type": "code",
   "execution_count": 185,
   "metadata": {},
   "outputs": [],
   "source": [
    "for i in os.listdir(\"./CovidDataset/Val/Covid/\"):\n",
    "    img=image.load_img(\"./CovidDataset/Val/Covid/\"+i,target_size=(224,224))\n",
    "    img=image.img_to_array(img)\n",
    "    img=np.expand_dims(img,axis=0)\n",
    "    pred=model.predict_classes(img)\n",
    "    y_test.append(pred[0,0])\n",
    "    y_actual.append(0)"
   ]
  },
  {
   "cell_type": "code",
   "execution_count": 186,
   "metadata": {},
   "outputs": [],
   "source": [
    "y_actual=np.array(y_actual)\n",
    "y_test=np.array(y_test)"
   ]
  },
  {
   "cell_type": "code",
   "execution_count": 187,
   "metadata": {},
   "outputs": [
    {
     "name": "stdout",
     "output_type": "stream",
     "text": [
      "[[30  0]\n",
      " [ 1 29]]\n"
     ]
    }
   ],
   "source": [
    "from sklearn.metrics import confusion_matrix\n",
    "import seaborn as sns\n",
    "cn=confusion_matrix(y_actual,y_test)\n",
    "print(cn)"
   ]
  },
  {
   "cell_type": "code",
   "execution_count": 192,
   "metadata": {},
   "outputs": [
    {
     "data": {
      "image/png": "[encoded data removed]",
      "text/plain": [
       "<Figure size 432x288 with 2 Axes>"
      ]
     },
     "metadata": {
      "needs_background": "light"
     },
     "output_type": "display_data"
    }
   ],
   "source": [
    "sns.heatmap(cn,cmap=\"plasma\",annot=True) #0: Covid ; 1: Normal\n",
    "plt.autoscale(enable=True, axis='y')"
   ]
  },
  {
   "cell_type": "code",
   "execution_count": null,
   "metadata": {},
   "outputs": [],
   "source": []
  }
 ],
 "metadata": {
  "kernelspec": {
   "display_name": "Python 3",
   "language": "python",
   "name": "python3"
  },
  "language_info": {
   "codemirror_mode": {
    "name": "ipython",
    "version": 3
   },
   "file_extension": ".py",
   "mimetype": "text/x-python",
   "name": "python",
   "nbconvert_exporter": "python",
   "pygments_lexer": "ipython3",
   "version": "3.7.4"
  }
 },
 "nbformat": 4,
 "nbformat_minor": 2
}
